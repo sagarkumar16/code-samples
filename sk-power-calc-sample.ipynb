{
 "cells": [
  {
   "cell_type": "code",
   "execution_count": 2,
   "id": "f5066db5",
   "metadata": {},
   "outputs": [],
   "source": [
    "import numpy as np\n",
    "import statistics\n",
    "import math\n",
    "import scipy.stats as scs\n",
    "import matplotlib.pyplot as plt\n",
    "import numpy.linalg as la\n",
    "from pingouin import power_anova"
   ]
  },
  {
   "cell_type": "markdown",
   "id": "690b54d4",
   "metadata": {},
   "source": [
    "For a population $P$, let $D^k$ be the demographic partitions of $P$ (Race, Gender, Sexuality, etc.) such that\n",
    "\n",
    "$D^k := \\{D^k_i : P = \\sqcup_i D^k_i\\}$ we need to know minimum $|D^k_i \\cap D^m_j|, i \\neq j, k \\neq m$ given $|P|$."
   ]
  },
  {
   "cell_type": "markdown",
   "id": "0edd0407",
   "metadata": {},
   "source": [
    "#### het_prob_intersectional()\n",
    "The probability that some individual $ x \\in P$, is in a chosen class, $\\omega$, within each partition $D^k$ is \n",
    "\n",
    "$p(x \\in D^k_{\\omega} \\forall k) = \\prod_k\\prod_{i \\neq \\omega, i \\in D^k}(1 - p(D_i^k))$\n",
    "\n",
    "For example, the probability that $x$ is a straight white male is \n",
    "\n",
    "$(1 - p(D_{straight}^{sexuality}))(1 - p(D_{white}^{race}))(1 - p(D_{male}^{gender}))$\n",
    "\n",
    "for the case where identities are perfectly heterogenously distributed in the pool,\n",
    "\n",
    "$p(x \\in D^k_{\\omega} \\forall k) = \\prod_k [1-(1-\\frac{1}{|D^k|})]^{|D^k-1|}$\n",
    "\n",
    "Thus the function returns $p(x \\in D^k_{\\omega} \\forall k)^{-1}$, or the number of people necessary in a heterogenous pool for one such $x$ to exist with 100% probability."
   ]
  },
  {
   "cell_type": "markdown",
   "id": "e6be2e70",
   "metadata": {},
   "source": [
    "#### subset_bounds()\n",
    "\n",
    "Bounding subset size:\n",
    "\n",
    "Given partitions $D^k$, we know we have a total of $\\prod_i |D^k_i|$ possible identities. We can set bounds on these by placing bounds on the size of each $D^k_i$ and then solve using an $(\\sum_i |D^k_i|) \\times (\\prod_i |D^k_i|)$ matrix, $M$. \n",
    "\n",
    "For fixed size, $s$, in all demographic subgroups, this is solved as \n",
    "$Mx = s\\vec{1}$"
   ]
  },
  {
   "cell_type": "code",
   "execution_count": 2,
   "id": "bdb06f2e",
   "metadata": {},
   "outputs": [],
   "source": [
    "# Sample: \n",
    "# N is the total sample size (annotators * comments)\n",
    "# S is the number of annotators\n",
    "# Q is the number of comments to label PER ANNOTATOR\n",
    "# subset_dict is a dictionary of the demographic subsets ex: {'gender': ['m', 'f', 'nb'], ...}"
   ]
  },
  {
   "cell_type": "code",
   "execution_count": 3,
   "id": "5c44f65c",
   "metadata": {},
   "outputs": [],
   "source": [
    "class Sample:\n",
    "    \n",
    "    def __init__(self,\n",
    "                 N=None,\n",
    "                 S=None, \n",
    "                 Q=None, \n",
    "                 subset_dict=None):\n",
    "        \n",
    "        self.subsets = subset_dict\n",
    "        \n",
    "        if (S and Q):\n",
    "            self.S = S\n",
    "            self.Q = Q\n",
    "            self.N = S*Q\n",
    "        \n",
    "        elif (N and S):\n",
    "            self.N = N\n",
    "            self.S = S\n",
    "            self.Q = int(N/S)\n",
    "        \n",
    "        elif (N and Q):\n",
    "            self.N = N\n",
    "            self.Q = Q\n",
    "            self.S = int(N/Q)\n",
    "        \n",
    "        else:\n",
    "            raise ValueError(\"Not enough values.\")\n",
    "            \n",
    "            \n",
    "            \n",
    "    def het_prob_intersectional(self, subsets=None):\n",
    "        \n",
    "        l = []\n",
    "        \n",
    "        if subsets is None:\n",
    "            subsets = self.subsets\n",
    "        \n",
    "        if type(subsets) == dict:\n",
    "            for dem in subsets:\n",
    "                k = len(subsets[dem])\n",
    "                l.append((1 - (1 - 1/k))**(k-1))\n",
    "            \n",
    "        # this input is a list of the number of identities per demographic partition\n",
    "        elif type(subsets) == list:\n",
    "            for k in subsets:\n",
    "                l.append((1 - (1 - 1/k))**(k-1))\n",
    "        else:\n",
    "            raise ValueError(\"No valid subset information provided.\")\n",
    "            \n",
    "        return np.prod(l)**-1\n",
    "    \n",
    "    \n",
    "            \n",
    "    def cal_identity_subset_bounds(self, M, S):\n",
    "        \n",
    "        # there is a way to get M & S from self.subsets but I leave that for later\n",
    "        \n",
    "        return la.tensorsolve(M, S)\n",
    "    \n",
    "    # largest_partition is the number of identities in the demogrpahic split with the most identities\n",
    "    def largest_effect_size(self, largest_partition):\n",
    "        return power_anova(k=largest_partition, n=self.N, power=0.8, alpha=0.05)\n",
    "    \n",
    "    # dict_number_identities is a dictionary with the number of groups in each split\n",
    "    # ex: {'race': 4, 'religion': 10}\n",
    "    # sample_rate is the sample rate for np.linspace [0,sample_end]\n",
    "    "
   ]
  },
  {
   "cell_type": "code",
   "execution_count": 15,
   "id": "1ec8d379",
   "metadata": {},
   "outputs": [],
   "source": [
    "def plot_anova_power(dict_number_identities, sample_rate=100, sample_start=0, sample_end=0.1):\n",
    "        \n",
    "        X = np.linspace(sample_start, sample_end, 100)\n",
    "        y_k = {}\n",
    "        \n",
    "        for cat in dict_number_identities:\n",
    "            y = []\n",
    "            for i in X:\n",
    "                y.append(power_anova(eta=i, k=dict_number_identities[cat], power=0.8, alpha=0.05))\n",
    "            y_k[cat] = y\n",
    "            \n",
    "        for k in y_k:\n",
    "            plt.plot(X, y_k[k], label=k)\n",
    "        plt.ylabel('Sample Size per Group')\n",
    "        plt.xlabel('Smallest Effect Size')\n",
    "        plt.title('ANOVA Power Calculation')\n",
    "        plt.legend()"
   ]
  },
  {
   "cell_type": "markdown",
   "id": "7e18164c",
   "metadata": {},
   "source": [
    "## Examples"
   ]
  },
  {
   "cell_type": "code",
   "execution_count": 30,
   "id": "5da444e5",
   "metadata": {},
   "outputs": [],
   "source": [
    "tst_population = Sample(N=1500, Q=100)"
   ]
  },
  {
   "cell_type": "markdown",
   "id": "eeaac3c2",
   "metadata": {},
   "source": [
    "$\\texttt{het_prob_intersectional()}$ scales $\\textit{very}$ quickly when the number of possible identities increases."
   ]
  },
  {
   "cell_type": "code",
   "execution_count": 40,
   "id": "6112d08f",
   "metadata": {},
   "outputs": [
    {
     "name": "stdout",
     "output_type": "stream",
     "text": [
      "4.0\n",
      "18.000000000000007\n",
      "16.0\n",
      "6561.000000000012\n"
     ]
    }
   ],
   "source": [
    "print(tst_population.het_prob_intersectional([2,2]))\n",
    "print(tst_population.het_prob_intersectional([2,3]))\n",
    "print(tst_population.het_prob_intersectional([2,2,2,2]))\n",
    "print(tst_population.het_prob_intersectional([3,3,3,3]))"
   ]
  },
  {
   "cell_type": "code",
   "execution_count": 13,
   "id": "8ab65170",
   "metadata": {},
   "outputs": [
    {
     "data": {
      "text/plain": [
       "(0.0, 1000.0)"
      ]
     },
     "execution_count": 13,
     "metadata": {},
     "output_type": "execute_result"
    },
    {
     "data": {
      "image/png": "[encoded data removed]",
      "text/plain": [
       "<Figure size 432x288 with 1 Axes>"
      ]
     },
     "metadata": {
      "needs_background": "light"
     },
     "output_type": "display_data"
    }
   ],
   "source": [
    "# plotting minimum effect size for demographics as per the labels in the **doc**\n",
    "# using an ANOVA test\n",
    "\n",
    "qualtrics_splits = {'gender': 3, 'sexual': 4, 'race': 6, 'religion': 6, 'political': 5}\n",
    "\n",
    "plot_anova_power(qualtrics_splits, sample_rate=30, sample_end=0.03)\n",
    "plt.ylim([0,1000])"
   ]
  },
  {
   "cell_type": "code",
   "execution_count": 6,
   "id": "720bc8d4",
   "metadata": {},
   "outputs": [
    {
     "name": "stdout",
     "output_type": "stream",
     "text": [
      "Smallest Effect Size which can reject $H_0$ using ANOVA test in gender: 0.009523885424984618\n",
      "Smallest Effect Size which can reject $H_0$ using ANOVA test in sexual: 0.0060335360406451235\n",
      "Smallest Effect Size which can reject $H_0$ using ANOVA test in race: 0.00286501554887624\n",
      "Smallest Effect Size which can reject $H_0$ using ANOVA test in religion: 0.003555995745988282\n",
      "Smallest Effect Size which can reject $H_0$ using ANOVA test in political: 0.005287673560240183\n"
     ]
    }
   ],
   "source": [
    "# smallest effect size expected from the groups presented in the **docs**\n",
    "\n",
    "qualtrics_N = {'gender': 335, 'sexual': 450, 'race': 745, 'religion': 600, 'political': 450}\n",
    "\n",
    "for dem in qualtrics_N:\n",
    "    p = power_anova(k=qualtrics_splits[dem], n=qualtrics_N[dem], power=0.8, alpha=0.05)\n",
    "    print(f\"Smallest Effect Size which can reject $H_0$ using ANOVA test in {dem}: {p}\")"
   ]
  },
  {
   "cell_type": "code",
   "execution_count": 7,
   "id": "ed6c53a0",
   "metadata": {},
   "outputs": [
    {
     "name": "stdout",
     "output_type": "stream",
     "text": [
      "Smallest Effect Size which can reject $H_0$ using ANOVA test in gender: 0.0210997325338543\n",
      "Smallest Effect Size which can reject $H_0$ using ANOVA test in sexual: 0.01796191598535155\n",
      "Smallest Effect Size which can reject $H_0$ using ANOVA test in race: 0.01413856757477921\n",
      "Smallest Effect Size which can reject $H_0$ using ANOVA test in religion: 0.01413856757477921\n",
      "Smallest Effect Size which can reject $H_0$ using ANOVA test in political: 0.015762857715490877\n"
     ]
    }
   ],
   "source": [
    "# smallest effect size expected from the groups presented in the **docs**\n",
    "\n",
    "qualtrics_N = {'gender': 150, 'sexual': 150, 'race': 150, 'religion': 150, 'political': 150}\n",
    "\n",
    "for dem in qualtrics_N:\n",
    "    p = power_anova(k=qualtrics_splits[dem], n=qualtrics_N[dem], power=0.8, alpha=0.05)\n",
    "    print(f\"Smallest Effect Size which can reject $H_0$ using ANOVA test in {dem}: {p}\")"
   ]
  },
  {
   "cell_type": "code",
   "execution_count": 16,
   "id": "07589e52",
   "metadata": {},
   "outputs": [
    {
     "data": {
      "text/plain": [
       "(0.0, 1000.0)"
      ]
     },
     "execution_count": 16,
     "metadata": {},
     "output_type": "execute_result"
    },
    {
     "data": {
      "image/png": "[encoded data removed]",
      "text/plain": [
       "<Figure size 432x288 with 1 Axes>"
      ]
     },
     "metadata": {
      "needs_background": "light"
     },
     "output_type": "display_data"
    }
   ],
   "source": [
    "# plotting minimum effect size for demographics as per the labels in the Qualtrics doc\n",
    "# using an ANOVA test\n",
    "\n",
    "qualtrics_splits = {'gender': 3, 'sexual': 4, 'race': 6, 'religion': 6, 'political': 5}\n",
    "\n",
    "plot_anova_power(qualtrics_splits)\n",
    "plt.ylim([0,1000])"
   ]
  },
  {
   "cell_type": "code",
   "execution_count": null,
   "id": "a146c4bf",
   "metadata": {},
   "outputs": [],
   "source": []
  }
 ],
 "metadata": {
  "kernelspec": {
   "display_name": "Python 3",
   "language": "python",
   "name": "python3"
  },
  "language_info": {
   "codemirror_mode": {
    "name": "ipython",
    "version": 3
   },
   "file_extension": ".py",
   "mimetype": "text/x-python",
   "name": "python",
   "nbconvert_exporter": "python",
   "pygments_lexer": "ipython3",
   "version": "3.8.8"
  }
 },
 "nbformat": 4,
 "nbformat_minor": 5
}
